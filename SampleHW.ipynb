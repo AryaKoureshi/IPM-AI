{
  "nbformat": 4,
  "nbformat_minor": 0,
  "metadata": {
    "colab": {
      "provenance": [],
      "authorship_tag": "ABX9TyOvm+bER1wByILCLbrg88z1",
      "include_colab_link": true
    },
    "kernelspec": {
      "name": "python3",
      "display_name": "Python 3"
    },
    "language_info": {
      "name": "python"
    }
  },
  "cells": [
    {
      "cell_type": "markdown",
      "metadata": {
        "id": "view-in-github",
        "colab_type": "text"
      },
      "source": [
        "<a href=\"https://colab.research.google.com/github/AryaKoureshi/IPM-AI/blob/main/SampleHW.ipynb\" target=\"_parent\"><img src=\"https://colab.research.google.com/assets/colab-badge.svg\" alt=\"Open In Colab\"/></a>"
      ]
    },
    {
      "cell_type": "markdown",
      "source": [
        "# Full Name :\n"
      ],
      "metadata": {
        "id": "2JZvgb4cpBAp"
      }
    },
    {
      "cell_type": "markdown",
      "source": [
        "## Question 1\n",
        "\n",
        "code:"
      ],
      "metadata": {
        "id": "4wZFSOwjoK03"
      }
    },
    {
      "cell_type": "code",
      "execution_count": null,
      "metadata": {
        "id": "E4EydsfpoJ3h"
      },
      "outputs": [],
      "source": []
    },
    {
      "cell_type": "markdown",
      "source": [
        "report:\n"
      ],
      "metadata": {
        "id": "0Zxrp4g2oV23"
      }
    },
    {
      "cell_type": "markdown",
      "source": [
        "---"
      ],
      "metadata": {
        "id": "Z4QXfFy9oZlJ"
      }
    },
    {
      "cell_type": "markdown",
      "source": [
        "## Question 2\n",
        "\n",
        "code:"
      ],
      "metadata": {
        "id": "vm6Rj3t2obpe"
      }
    },
    {
      "cell_type": "code",
      "source": [],
      "metadata": {
        "id": "oxOwZE20oa7K"
      },
      "execution_count": null,
      "outputs": []
    },
    {
      "cell_type": "markdown",
      "source": [
        "report:"
      ],
      "metadata": {
        "id": "72zNiLFEogCs"
      }
    },
    {
      "cell_type": "markdown",
      "source": [
        "---"
      ],
      "metadata": {
        "id": "d72h_2gcohOl"
      }
    },
    {
      "cell_type": "markdown",
      "source": [
        "## Question 3\n",
        "\n",
        "code:"
      ],
      "metadata": {
        "id": "nhc70Hf2oiGE"
      }
    },
    {
      "cell_type": "code",
      "source": [],
      "metadata": {
        "id": "3a-4qW7jonSt"
      },
      "execution_count": null,
      "outputs": []
    },
    {
      "cell_type": "markdown",
      "source": [
        "report:"
      ],
      "metadata": {
        "id": "MozaLzBmok9O"
      }
    },
    {
      "cell_type": "markdown",
      "source": [
        "---"
      ],
      "metadata": {
        "id": "njVMg5abopho"
      }
    },
    {
      "cell_type": "markdown",
      "source": [
        "## Question 4\n",
        "\n",
        "code:"
      ],
      "metadata": {
        "id": "uCuf0szkp0h0"
      }
    },
    {
      "cell_type": "code",
      "source": [],
      "metadata": {
        "id": "XyC0gWWWp0h1"
      },
      "execution_count": null,
      "outputs": []
    },
    {
      "cell_type": "markdown",
      "source": [
        "report:"
      ],
      "metadata": {
        "id": "jU1Vhyo2p0h1"
      }
    },
    {
      "cell_type": "markdown",
      "source": [
        "---"
      ],
      "metadata": {
        "id": "kdIH1-5ep0h1"
      }
    },
    {
      "cell_type": "markdown",
      "source": [
        "## Question 5\n",
        "\n",
        "code:"
      ],
      "metadata": {
        "id": "2YLH8JdCp0_Q"
      }
    },
    {
      "cell_type": "code",
      "source": [],
      "metadata": {
        "id": "9dRAKYe_p0_R"
      },
      "execution_count": null,
      "outputs": []
    },
    {
      "cell_type": "markdown",
      "source": [
        "report:"
      ],
      "metadata": {
        "id": "nMy5Ctecp0_R"
      }
    },
    {
      "cell_type": "markdown",
      "source": [
        "---"
      ],
      "metadata": {
        "id": "wOy-cUyQp0_R"
      }
    },
    {
      "cell_type": "markdown",
      "source": [
        "## Question 6\n",
        "\n",
        "code:"
      ],
      "metadata": {
        "id": "futvTSetp1GY"
      }
    },
    {
      "cell_type": "code",
      "source": [],
      "metadata": {
        "id": "dKlKX3RTp1GZ"
      },
      "execution_count": null,
      "outputs": []
    },
    {
      "cell_type": "markdown",
      "source": [
        "report:"
      ],
      "metadata": {
        "id": "-yDRKstUp1GZ"
      }
    },
    {
      "cell_type": "markdown",
      "source": [
        "---"
      ],
      "metadata": {
        "id": "GZllELlhp1GZ"
      }
    },
    {
      "cell_type": "markdown",
      "source": [
        "## Question 7\n",
        "\n",
        "code:"
      ],
      "metadata": {
        "id": "aGooqBslp1Mf"
      }
    },
    {
      "cell_type": "code",
      "source": [],
      "metadata": {
        "id": "jiMiIx8Wp1Mg"
      },
      "execution_count": null,
      "outputs": []
    },
    {
      "cell_type": "markdown",
      "source": [
        "report:"
      ],
      "metadata": {
        "id": "RmMVCYDEp1Mg"
      }
    },
    {
      "cell_type": "markdown",
      "source": [
        "---"
      ],
      "metadata": {
        "id": "J8wcpA7Ap1Mg"
      }
    },
    {
      "cell_type": "markdown",
      "source": [
        "## Question 8\n",
        "\n",
        "code:"
      ],
      "metadata": {
        "id": "4SMeBnjOp1Sw"
      }
    },
    {
      "cell_type": "code",
      "source": [],
      "metadata": {
        "id": "5Yzl1iBOp1Sx"
      },
      "execution_count": null,
      "outputs": []
    },
    {
      "cell_type": "markdown",
      "source": [
        "report:"
      ],
      "metadata": {
        "id": "78N2uje2p1Sx"
      }
    },
    {
      "cell_type": "markdown",
      "source": [
        "---"
      ],
      "metadata": {
        "id": "9hQCxRR4p1Sx"
      }
    },
    {
      "cell_type": "markdown",
      "source": [
        "## Question 9\n",
        "\n",
        "code:"
      ],
      "metadata": {
        "id": "zht-E_HRp1Xs"
      }
    },
    {
      "cell_type": "code",
      "source": [],
      "metadata": {
        "id": "13UgfJOzp1Xt"
      },
      "execution_count": null,
      "outputs": []
    },
    {
      "cell_type": "markdown",
      "source": [
        "report:"
      ],
      "metadata": {
        "id": "iaCzggChp1Xt"
      }
    },
    {
      "cell_type": "markdown",
      "source": [
        "---"
      ],
      "metadata": {
        "id": "LLZ69ewdp1Xt"
      }
    },
    {
      "cell_type": "markdown",
      "source": [
        "## Question 10\n",
        "\n",
        "code:"
      ],
      "metadata": {
        "id": "-dS_aef4p1b2"
      }
    },
    {
      "cell_type": "code",
      "source": [],
      "metadata": {
        "id": "3wS7Vd5-p1b2"
      },
      "execution_count": null,
      "outputs": []
    },
    {
      "cell_type": "markdown",
      "source": [
        "report:"
      ],
      "metadata": {
        "id": "2y6St-q2p1b2"
      }
    },
    {
      "cell_type": "markdown",
      "source": [
        "---"
      ],
      "metadata": {
        "id": "IMjCl9wQp1b2"
      }
    },
    {
      "cell_type": "markdown",
      "source": [
        "## Question 11\n",
        "\n",
        "code:"
      ],
      "metadata": {
        "id": "FeLc27unp1e4"
      }
    },
    {
      "cell_type": "code",
      "source": [],
      "metadata": {
        "id": "VP7rN1Isp1e4"
      },
      "execution_count": null,
      "outputs": []
    },
    {
      "cell_type": "markdown",
      "source": [
        "report:"
      ],
      "metadata": {
        "id": "L17fAoojp1e4"
      }
    },
    {
      "cell_type": "markdown",
      "source": [
        "---"
      ],
      "metadata": {
        "id": "-KTYu5bip1e4"
      }
    },
    {
      "cell_type": "markdown",
      "source": [
        "## Question 12\n",
        "\n",
        "code:"
      ],
      "metadata": {
        "id": "q50tt4qep1hx"
      }
    },
    {
      "cell_type": "code",
      "source": [],
      "metadata": {
        "id": "dHlPWDbPp1hx"
      },
      "execution_count": null,
      "outputs": []
    },
    {
      "cell_type": "markdown",
      "source": [
        "report:"
      ],
      "metadata": {
        "id": "3uxSbo4mp1hy"
      }
    },
    {
      "cell_type": "markdown",
      "source": [
        "---"
      ],
      "metadata": {
        "id": "_kVjV_Kvp1hy"
      }
    },
    {
      "cell_type": "markdown",
      "source": [
        "## Question 13\n",
        "\n",
        "code:"
      ],
      "metadata": {
        "id": "_kaUGSmxp1j0"
      }
    },
    {
      "cell_type": "code",
      "source": [],
      "metadata": {
        "id": "1g8DkkUcp1j0"
      },
      "execution_count": null,
      "outputs": []
    },
    {
      "cell_type": "markdown",
      "source": [
        "report:"
      ],
      "metadata": {
        "id": "TcE8f90jp1j0"
      }
    },
    {
      "cell_type": "markdown",
      "source": [
        "---"
      ],
      "metadata": {
        "id": "icUnqM00p1j0"
      }
    },
    {
      "cell_type": "markdown",
      "source": [
        "## Question 14\n",
        "\n",
        "code:"
      ],
      "metadata": {
        "id": "e9wQuAYXp1mP"
      }
    },
    {
      "cell_type": "code",
      "source": [],
      "metadata": {
        "id": "TH9nptOwp1mP"
      },
      "execution_count": null,
      "outputs": []
    },
    {
      "cell_type": "markdown",
      "source": [
        "report:"
      ],
      "metadata": {
        "id": "3Xqt5uAip1mP"
      }
    },
    {
      "cell_type": "markdown",
      "source": [
        "---"
      ],
      "metadata": {
        "id": "dqbqW1AKp1mP"
      }
    },
    {
      "cell_type": "markdown",
      "source": [
        "## Question 15\n",
        "\n",
        "code:"
      ],
      "metadata": {
        "id": "gCPG_8uLp1rk"
      }
    },
    {
      "cell_type": "code",
      "source": [],
      "metadata": {
        "id": "_suvvtaLp1rk"
      },
      "execution_count": null,
      "outputs": []
    },
    {
      "cell_type": "markdown",
      "source": [
        "report:"
      ],
      "metadata": {
        "id": "qWF6r9nYp1rk"
      }
    },
    {
      "cell_type": "markdown",
      "source": [
        "---"
      ],
      "metadata": {
        "id": "kVGPBF2Fp1rl"
      }
    },
    {
      "cell_type": "markdown",
      "source": [
        "## Question 16\n",
        "\n",
        "code:"
      ],
      "metadata": {
        "id": "xX0IWdd8p1ue"
      }
    },
    {
      "cell_type": "code",
      "source": [],
      "metadata": {
        "id": "d0iwVYrbp1ue"
      },
      "execution_count": null,
      "outputs": []
    },
    {
      "cell_type": "markdown",
      "source": [
        "report:"
      ],
      "metadata": {
        "id": "KEsxHXsmp1ue"
      }
    },
    {
      "cell_type": "markdown",
      "source": [
        "---"
      ],
      "metadata": {
        "id": "bN-4dLqGp1ue"
      }
    },
    {
      "cell_type": "markdown",
      "source": [
        "## Question 17\n",
        "\n",
        "code:"
      ],
      "metadata": {
        "id": "jB9cnmAqp1w0"
      }
    },
    {
      "cell_type": "code",
      "source": [],
      "metadata": {
        "id": "l3AY7yTMp1w0"
      },
      "execution_count": null,
      "outputs": []
    },
    {
      "cell_type": "markdown",
      "source": [
        "report:"
      ],
      "metadata": {
        "id": "Ackdv1skp1w0"
      }
    },
    {
      "cell_type": "markdown",
      "source": [
        "---"
      ],
      "metadata": {
        "id": "Ud662raip1w1"
      }
    },
    {
      "cell_type": "markdown",
      "source": [
        "## Question 18\n",
        "\n",
        "code:"
      ],
      "metadata": {
        "id": "j7xSzBjmp1zL"
      }
    },
    {
      "cell_type": "code",
      "source": [],
      "metadata": {
        "id": "MttofTNyp1zM"
      },
      "execution_count": null,
      "outputs": []
    },
    {
      "cell_type": "markdown",
      "source": [
        "report:"
      ],
      "metadata": {
        "id": "8akDQTB0p1zM"
      }
    },
    {
      "cell_type": "markdown",
      "source": [
        "---"
      ],
      "metadata": {
        "id": "wQjrqpr5p1zM"
      }
    },
    {
      "cell_type": "markdown",
      "source": [
        "## Question 19\n",
        "\n",
        "code:"
      ],
      "metadata": {
        "id": "5iD5qRqMp11h"
      }
    },
    {
      "cell_type": "code",
      "source": [],
      "metadata": {
        "id": "y9jt0TxHp11h"
      },
      "execution_count": null,
      "outputs": []
    },
    {
      "cell_type": "markdown",
      "source": [
        "report:"
      ],
      "metadata": {
        "id": "4kLaaSsNp11h"
      }
    },
    {
      "cell_type": "markdown",
      "source": [
        "---"
      ],
      "metadata": {
        "id": "hDoyX--5p11i"
      }
    },
    {
      "cell_type": "markdown",
      "source": [
        "## Question 20\n",
        "\n",
        "code:"
      ],
      "metadata": {
        "id": "ob_r3IjHp14F"
      }
    },
    {
      "cell_type": "code",
      "source": [],
      "metadata": {
        "id": "KBnyWxJIp14G"
      },
      "execution_count": null,
      "outputs": []
    },
    {
      "cell_type": "markdown",
      "source": [
        "report:"
      ],
      "metadata": {
        "id": "lMJg8acRp14G"
      }
    },
    {
      "cell_type": "markdown",
      "source": [
        "---"
      ],
      "metadata": {
        "id": "haa1VXEQp14G"
      }
    },
    {
      "cell_type": "markdown",
      "source": [
        "## Question 21\n",
        "\n",
        "code:"
      ],
      "metadata": {
        "id": "pG4rra1cp16c"
      }
    },
    {
      "cell_type": "code",
      "source": [],
      "metadata": {
        "id": "tx3Xuwyip16d"
      },
      "execution_count": null,
      "outputs": []
    },
    {
      "cell_type": "markdown",
      "source": [
        "report:"
      ],
      "metadata": {
        "id": "hqA3x4hNp16d"
      }
    },
    {
      "cell_type": "markdown",
      "source": [
        "---"
      ],
      "metadata": {
        "id": "N-K4dFsgp16d"
      }
    },
    {
      "cell_type": "markdown",
      "source": [
        "## Question 22\n",
        "\n",
        "code:"
      ],
      "metadata": {
        "id": "tk9larGUp197"
      }
    },
    {
      "cell_type": "code",
      "source": [],
      "metadata": {
        "id": "1_q7-tygp197"
      },
      "execution_count": null,
      "outputs": []
    },
    {
      "cell_type": "markdown",
      "source": [
        "report:"
      ],
      "metadata": {
        "id": "MkGDHZRFp198"
      }
    },
    {
      "cell_type": "markdown",
      "source": [
        "---"
      ],
      "metadata": {
        "id": "KLTxCJXdp198"
      }
    },
    {
      "cell_type": "markdown",
      "source": [
        "## Question 23\n",
        "\n",
        "code:"
      ],
      "metadata": {
        "id": "V3DU93ohp2Ag"
      }
    },
    {
      "cell_type": "code",
      "source": [],
      "metadata": {
        "id": "NrOknl-ap2Ag"
      },
      "execution_count": null,
      "outputs": []
    },
    {
      "cell_type": "markdown",
      "source": [
        "report:"
      ],
      "metadata": {
        "id": "QcmpjWXWp2Ag"
      }
    },
    {
      "cell_type": "markdown",
      "source": [
        "---"
      ],
      "metadata": {
        "id": "FLz8hKjEp2Ah"
      }
    },
    {
      "cell_type": "markdown",
      "source": [
        "## Question 24\n",
        "\n",
        "code:"
      ],
      "metadata": {
        "id": "bMsVikAHp2DK"
      }
    },
    {
      "cell_type": "code",
      "source": [],
      "metadata": {
        "id": "teKjDMJTp2DK"
      },
      "execution_count": null,
      "outputs": []
    },
    {
      "cell_type": "markdown",
      "source": [
        "report:"
      ],
      "metadata": {
        "id": "32Yn5cF-p2DL"
      }
    },
    {
      "cell_type": "markdown",
      "source": [
        "---"
      ],
      "metadata": {
        "id": "vGgnVknSp2DL"
      }
    },
    {
      "cell_type": "markdown",
      "source": [
        "## Question 25\n",
        "\n",
        "code:"
      ],
      "metadata": {
        "id": "1ypGa69gp2Fx"
      }
    },
    {
      "cell_type": "code",
      "source": [],
      "metadata": {
        "id": "tssUZsN4p2Fx"
      },
      "execution_count": null,
      "outputs": []
    },
    {
      "cell_type": "markdown",
      "source": [
        "report:"
      ],
      "metadata": {
        "id": "ueiySX5lp2Fy"
      }
    },
    {
      "cell_type": "markdown",
      "source": [
        "---"
      ],
      "metadata": {
        "id": "vo5pU3RKp2Fy"
      }
    },
    {
      "cell_type": "markdown",
      "source": [
        "## Question 26\n",
        "\n",
        "code:"
      ],
      "metadata": {
        "id": "6RF9SPTvp2Iy"
      }
    },
    {
      "cell_type": "code",
      "source": [],
      "metadata": {
        "id": "Pgkf19sYp2Iy"
      },
      "execution_count": null,
      "outputs": []
    },
    {
      "cell_type": "markdown",
      "source": [
        "report:"
      ],
      "metadata": {
        "id": "hMivu2yKp2Iy"
      }
    },
    {
      "cell_type": "markdown",
      "source": [
        "---"
      ],
      "metadata": {
        "id": "V7us-FNtp2Iz"
      }
    },
    {
      "cell_type": "markdown",
      "source": [
        "## Question 27\n",
        "\n",
        "code:"
      ],
      "metadata": {
        "id": "1ynyj1mRp2Lb"
      }
    },
    {
      "cell_type": "code",
      "source": [],
      "metadata": {
        "id": "NMDEjUQcp2Lb"
      },
      "execution_count": null,
      "outputs": []
    },
    {
      "cell_type": "markdown",
      "source": [
        "report:"
      ],
      "metadata": {
        "id": "vQArGpb5p2Lb"
      }
    },
    {
      "cell_type": "markdown",
      "source": [
        "---"
      ],
      "metadata": {
        "id": "au40Hw0Np2Lb"
      }
    },
    {
      "cell_type": "markdown",
      "source": [
        "## Question 28\n",
        "\n",
        "code:"
      ],
      "metadata": {
        "id": "PFTnAQBOp2OQ"
      }
    },
    {
      "cell_type": "code",
      "source": [],
      "metadata": {
        "id": "gZ0NBdXwp2OR"
      },
      "execution_count": null,
      "outputs": []
    },
    {
      "cell_type": "markdown",
      "source": [
        "report:"
      ],
      "metadata": {
        "id": "N0uEnUP4p2OR"
      }
    },
    {
      "cell_type": "markdown",
      "source": [
        "---"
      ],
      "metadata": {
        "id": "IXWNaLUSp2OR"
      }
    },
    {
      "cell_type": "markdown",
      "source": [
        "## Question 29\n",
        "\n",
        "code:"
      ],
      "metadata": {
        "id": "BijUhp2xp2Rv"
      }
    },
    {
      "cell_type": "code",
      "source": [],
      "metadata": {
        "id": "Gtn5eKEUp2Rv"
      },
      "execution_count": null,
      "outputs": []
    },
    {
      "cell_type": "markdown",
      "source": [
        "report:"
      ],
      "metadata": {
        "id": "LMuA3kAwp2Rv"
      }
    },
    {
      "cell_type": "markdown",
      "source": [
        "---"
      ],
      "metadata": {
        "id": "XOI9voPsp2Rw"
      }
    },
    {
      "cell_type": "markdown",
      "source": [
        "## Question 30\n",
        "\n",
        "code:"
      ],
      "metadata": {
        "id": "IM3xCJ0cp2U4"
      }
    },
    {
      "cell_type": "code",
      "source": [],
      "metadata": {
        "id": "2N9EUU-tp2U4"
      },
      "execution_count": null,
      "outputs": []
    },
    {
      "cell_type": "markdown",
      "source": [
        "report:"
      ],
      "metadata": {
        "id": "ktXX3AM7p2U5"
      }
    },
    {
      "cell_type": "markdown",
      "source": [
        "---"
      ],
      "metadata": {
        "id": "PzHD-jjop2U5"
      }
    },
    {
      "cell_type": "markdown",
      "source": [
        "## Question 31\n",
        "\n",
        "code:"
      ],
      "metadata": {
        "id": "ONqPs2zzp2Xu"
      }
    },
    {
      "cell_type": "code",
      "source": [],
      "metadata": {
        "id": "jsGPbz5op2Xu"
      },
      "execution_count": null,
      "outputs": []
    },
    {
      "cell_type": "markdown",
      "source": [
        "report:"
      ],
      "metadata": {
        "id": "OpzRJdIop2Xu"
      }
    },
    {
      "cell_type": "markdown",
      "source": [
        "---"
      ],
      "metadata": {
        "id": "G6ayZa2cp2Xv"
      }
    },
    {
      "cell_type": "markdown",
      "source": [
        "## Question 32\n",
        "\n",
        "code:"
      ],
      "metadata": {
        "id": "U_2IMSNkp2aw"
      }
    },
    {
      "cell_type": "code",
      "source": [],
      "metadata": {
        "id": "-Pl7rEnxp2ax"
      },
      "execution_count": null,
      "outputs": []
    },
    {
      "cell_type": "markdown",
      "source": [
        "report:"
      ],
      "metadata": {
        "id": "A_v5WppHp2ax"
      }
    },
    {
      "cell_type": "markdown",
      "source": [
        "---"
      ],
      "metadata": {
        "id": "eJ0Tbcjqp2ax"
      }
    },
    {
      "cell_type": "markdown",
      "source": [
        "## Question 33\n",
        "\n",
        "code:"
      ],
      "metadata": {
        "id": "d_RQv7mlp2d3"
      }
    },
    {
      "cell_type": "code",
      "source": [],
      "metadata": {
        "id": "PKXQRMoUp2d4"
      },
      "execution_count": null,
      "outputs": []
    },
    {
      "cell_type": "markdown",
      "source": [
        "report:"
      ],
      "metadata": {
        "id": "mI1w0Jorp2d4"
      }
    },
    {
      "cell_type": "markdown",
      "source": [
        "---"
      ],
      "metadata": {
        "id": "2HsKEdGyp2d4"
      }
    },
    {
      "cell_type": "markdown",
      "source": [
        "## Question 34\n",
        "\n",
        "code:"
      ],
      "metadata": {
        "id": "y7m0mXiep2g2"
      }
    },
    {
      "cell_type": "code",
      "source": [],
      "metadata": {
        "id": "Yh1K57tkp2g3"
      },
      "execution_count": null,
      "outputs": []
    },
    {
      "cell_type": "markdown",
      "source": [
        "report:"
      ],
      "metadata": {
        "id": "mL76GlgOp2g3"
      }
    },
    {
      "cell_type": "markdown",
      "source": [
        "---"
      ],
      "metadata": {
        "id": "9sGv2XC5p2g3"
      }
    },
    {
      "cell_type": "markdown",
      "source": [
        "## Question 35\n",
        "\n",
        "code:"
      ],
      "metadata": {
        "id": "MX7XNQ9_q9TD"
      }
    },
    {
      "cell_type": "code",
      "source": [],
      "metadata": {
        "id": "GttJ2S7Xq9TD"
      },
      "execution_count": null,
      "outputs": []
    },
    {
      "cell_type": "markdown",
      "source": [
        "report:"
      ],
      "metadata": {
        "id": "6EJpIHESq9TD"
      }
    },
    {
      "cell_type": "markdown",
      "source": [
        "---"
      ],
      "metadata": {
        "id": "QRSsq0EIq9TE"
      }
    },
    {
      "cell_type": "markdown",
      "source": [
        "## Question 36\n",
        "\n",
        "code:"
      ],
      "metadata": {
        "id": "IxCovCS4q_MV"
      }
    },
    {
      "cell_type": "code",
      "source": [],
      "metadata": {
        "id": "djaurUSYq_MV"
      },
      "execution_count": null,
      "outputs": []
    },
    {
      "cell_type": "markdown",
      "source": [
        "report:"
      ],
      "metadata": {
        "id": "YhdO2xYiq_MW"
      }
    },
    {
      "cell_type": "markdown",
      "source": [
        "---"
      ],
      "metadata": {
        "id": "FO5KFbJ9q_MW"
      }
    },
    {
      "cell_type": "markdown",
      "source": [
        "## Question 37\n",
        "\n",
        "code:"
      ],
      "metadata": {
        "id": "ZClDUnQ9q_UV"
      }
    },
    {
      "cell_type": "code",
      "source": [],
      "metadata": {
        "id": "gaGmNGZxq_UW"
      },
      "execution_count": null,
      "outputs": []
    },
    {
      "cell_type": "markdown",
      "source": [
        "report:"
      ],
      "metadata": {
        "id": "s3DiMC0Yq_UW"
      }
    },
    {
      "cell_type": "markdown",
      "source": [
        "---"
      ],
      "metadata": {
        "id": "-dZp7akGq_UW"
      }
    },
    {
      "cell_type": "markdown",
      "source": [
        "## Question 38\n",
        "\n",
        "code:"
      ],
      "metadata": {
        "id": "m2FfT1ibq_d5"
      }
    },
    {
      "cell_type": "code",
      "source": [],
      "metadata": {
        "id": "EgN5a1Mgq_d6"
      },
      "execution_count": null,
      "outputs": []
    },
    {
      "cell_type": "markdown",
      "source": [
        "report:"
      ],
      "metadata": {
        "id": "9uSsIpjaq_d6"
      }
    },
    {
      "cell_type": "markdown",
      "source": [
        "---"
      ],
      "metadata": {
        "id": "-6WWjSSTq_d6"
      }
    },
    {
      "cell_type": "markdown",
      "source": [
        "## Question 39\n",
        "\n",
        "code:"
      ],
      "metadata": {
        "id": "Cn8RrUVlq_m4"
      }
    },
    {
      "cell_type": "code",
      "source": [],
      "metadata": {
        "id": "1y-HJ0khq_m4"
      },
      "execution_count": null,
      "outputs": []
    },
    {
      "cell_type": "markdown",
      "source": [
        "report:"
      ],
      "metadata": {
        "id": "D2qz9cMuq_m4"
      }
    },
    {
      "cell_type": "markdown",
      "source": [
        "---"
      ],
      "metadata": {
        "id": "yf1Zbj2Nq_m4"
      }
    },
    {
      "cell_type": "markdown",
      "source": [
        "## Question 40\n",
        "\n",
        "code:"
      ],
      "metadata": {
        "id": "MX5snffKq_wS"
      }
    },
    {
      "cell_type": "code",
      "source": [],
      "metadata": {
        "id": "oqrhN-Ycq_wT"
      },
      "execution_count": null,
      "outputs": []
    },
    {
      "cell_type": "markdown",
      "source": [
        "report:"
      ],
      "metadata": {
        "id": "bqxmSNDWq_wT"
      }
    },
    {
      "cell_type": "markdown",
      "source": [
        "---"
      ],
      "metadata": {
        "id": "BJTqrp-rq_wT"
      }
    },
    {
      "cell_type": "markdown",
      "source": [
        "## Question 41\n",
        "\n",
        "code:"
      ],
      "metadata": {
        "id": "ppCTwAfqq_4W"
      }
    },
    {
      "cell_type": "code",
      "source": [],
      "metadata": {
        "id": "JqBZWD_yq_4X"
      },
      "execution_count": null,
      "outputs": []
    },
    {
      "cell_type": "markdown",
      "source": [
        "report:"
      ],
      "metadata": {
        "id": "wgwWTYg9q_4X"
      }
    },
    {
      "cell_type": "markdown",
      "source": [
        "---"
      ],
      "metadata": {
        "id": "RddWQNkyq_4X"
      }
    },
    {
      "cell_type": "markdown",
      "source": [
        "## Question 42\n",
        "\n",
        "code:"
      ],
      "metadata": {
        "id": "EfBc2FPaq_-c"
      }
    },
    {
      "cell_type": "code",
      "source": [],
      "metadata": {
        "id": "j1KEBgesq_-c"
      },
      "execution_count": null,
      "outputs": []
    },
    {
      "cell_type": "markdown",
      "source": [
        "report:"
      ],
      "metadata": {
        "id": "HrF8fw7Jq_-c"
      }
    },
    {
      "cell_type": "markdown",
      "source": [
        "---"
      ],
      "metadata": {
        "id": "J7KLPrLLq_-d"
      }
    },
    {
      "cell_type": "markdown",
      "source": [
        "## Question 43\n",
        "\n",
        "code:"
      ],
      "metadata": {
        "id": "tpXiZZSirADc"
      }
    },
    {
      "cell_type": "code",
      "source": [],
      "metadata": {
        "id": "a8XiuuMRrADc"
      },
      "execution_count": null,
      "outputs": []
    },
    {
      "cell_type": "markdown",
      "source": [
        "report:"
      ],
      "metadata": {
        "id": "rJp4ChOWrADc"
      }
    },
    {
      "cell_type": "markdown",
      "source": [
        "---"
      ],
      "metadata": {
        "id": "4ezl_rH9rADc"
      }
    },
    {
      "cell_type": "markdown",
      "source": [
        "## Question 44\n",
        "\n",
        "code:"
      ],
      "metadata": {
        "id": "D-n6ku7yrAIp"
      }
    },
    {
      "cell_type": "code",
      "source": [],
      "metadata": {
        "id": "5SQ_zSifrAIp"
      },
      "execution_count": null,
      "outputs": []
    },
    {
      "cell_type": "markdown",
      "source": [
        "report:"
      ],
      "metadata": {
        "id": "aFtdcyzfrAIp"
      }
    },
    {
      "cell_type": "markdown",
      "source": [
        "---"
      ],
      "metadata": {
        "id": "O8QuFGesrAIq"
      }
    },
    {
      "cell_type": "markdown",
      "source": [
        "## Question 45\n",
        "\n",
        "code:"
      ],
      "metadata": {
        "id": "oaxWdmttrAOD"
      }
    },
    {
      "cell_type": "code",
      "source": [],
      "metadata": {
        "id": "VSTutILXrAOE"
      },
      "execution_count": null,
      "outputs": []
    },
    {
      "cell_type": "markdown",
      "source": [
        "report:"
      ],
      "metadata": {
        "id": "yhGlH0H-rAOE"
      }
    },
    {
      "cell_type": "markdown",
      "source": [
        "---"
      ],
      "metadata": {
        "id": "g7jzyYmMrAOE"
      }
    },
    {
      "cell_type": "markdown",
      "source": [
        "## Question 46\n",
        "\n",
        "code:"
      ],
      "metadata": {
        "id": "MGNWcRCGrATJ"
      }
    },
    {
      "cell_type": "code",
      "source": [],
      "metadata": {
        "id": "UTKw22RCrATK"
      },
      "execution_count": null,
      "outputs": []
    },
    {
      "cell_type": "markdown",
      "source": [
        "report:"
      ],
      "metadata": {
        "id": "gFGyzwS1rATK"
      }
    },
    {
      "cell_type": "markdown",
      "source": [
        "---"
      ],
      "metadata": {
        "id": "1aHx4woOrATK"
      }
    },
    {
      "cell_type": "markdown",
      "source": [
        "## Question 47\n",
        "\n",
        "code:"
      ],
      "metadata": {
        "id": "UNqLY9ubrAZA"
      }
    },
    {
      "cell_type": "code",
      "source": [],
      "metadata": {
        "id": "gVsyM7CarAZA"
      },
      "execution_count": null,
      "outputs": []
    },
    {
      "cell_type": "markdown",
      "source": [
        "report:"
      ],
      "metadata": {
        "id": "fch7Q66PrAZA"
      }
    },
    {
      "cell_type": "markdown",
      "source": [
        "---"
      ],
      "metadata": {
        "id": "0n7R2NqPrAZB"
      }
    },
    {
      "cell_type": "markdown",
      "source": [
        "## Question 48\n",
        "\n",
        "code:"
      ],
      "metadata": {
        "id": "bIDRo-NCrAfu"
      }
    },
    {
      "cell_type": "code",
      "source": [],
      "metadata": {
        "id": "A2Quy3IxrAfu"
      },
      "execution_count": null,
      "outputs": []
    },
    {
      "cell_type": "markdown",
      "source": [
        "report:"
      ],
      "metadata": {
        "id": "cyxZd3EZrAfv"
      }
    },
    {
      "cell_type": "markdown",
      "source": [
        "---"
      ],
      "metadata": {
        "id": "8lAI_5f-rAfv"
      }
    },
    {
      "cell_type": "markdown",
      "source": [
        "## Question 49\n",
        "\n",
        "code:"
      ],
      "metadata": {
        "id": "Nrp3JbqKrAln"
      }
    },
    {
      "cell_type": "code",
      "source": [],
      "metadata": {
        "id": "hZ9rtuxvrAln"
      },
      "execution_count": null,
      "outputs": []
    },
    {
      "cell_type": "markdown",
      "source": [
        "report:"
      ],
      "metadata": {
        "id": "BNch2j0hrAln"
      }
    },
    {
      "cell_type": "markdown",
      "source": [
        "---"
      ],
      "metadata": {
        "id": "o2wE7_12rAlo"
      }
    },
    {
      "cell_type": "markdown",
      "source": [
        "## Question 50\n",
        "\n",
        "code:"
      ],
      "metadata": {
        "id": "ZRXiPLO4rArR"
      }
    },
    {
      "cell_type": "code",
      "source": [],
      "metadata": {
        "id": "yQGK_hZ8rArR"
      },
      "execution_count": null,
      "outputs": []
    },
    {
      "cell_type": "markdown",
      "source": [
        "report:"
      ],
      "metadata": {
        "id": "Iq-ab7vgrArS"
      }
    },
    {
      "cell_type": "markdown",
      "source": [
        "---"
      ],
      "metadata": {
        "id": "oBCsoPyLrArS"
      }
    },
    {
      "cell_type": "markdown",
      "source": [
        "## Question 51\n",
        "\n",
        "code:"
      ],
      "metadata": {
        "id": "glZqU9-irAv1"
      }
    },
    {
      "cell_type": "code",
      "source": [],
      "metadata": {
        "id": "necyUdu3rAv2"
      },
      "execution_count": null,
      "outputs": []
    },
    {
      "cell_type": "markdown",
      "source": [
        "report:"
      ],
      "metadata": {
        "id": "TcDg_09srAv2"
      }
    },
    {
      "cell_type": "markdown",
      "source": [
        "---"
      ],
      "metadata": {
        "id": "iawYJWQfrAv2"
      }
    },
    {
      "cell_type": "markdown",
      "source": [
        "## Question 52\n",
        "\n",
        "code:"
      ],
      "metadata": {
        "id": "LCCAqG36rA0Z"
      }
    },
    {
      "cell_type": "code",
      "source": [],
      "metadata": {
        "id": "5vKDnGCtrA0Z"
      },
      "execution_count": null,
      "outputs": []
    },
    {
      "cell_type": "markdown",
      "source": [
        "report:"
      ],
      "metadata": {
        "id": "KLbcspx0rA0Z"
      }
    },
    {
      "cell_type": "markdown",
      "source": [
        "---"
      ],
      "metadata": {
        "id": "faQ09-2RrA0a"
      }
    },
    {
      "cell_type": "markdown",
      "source": [
        "## Question 53\n",
        "\n",
        "code:"
      ],
      "metadata": {
        "id": "1V0JAW1YrA5N"
      }
    },
    {
      "cell_type": "code",
      "source": [],
      "metadata": {
        "id": "Qfg_H1vhrA5O"
      },
      "execution_count": null,
      "outputs": []
    },
    {
      "cell_type": "markdown",
      "source": [
        "report:"
      ],
      "metadata": {
        "id": "CxiQT_rIrA5O"
      }
    },
    {
      "cell_type": "markdown",
      "source": [
        "---"
      ],
      "metadata": {
        "id": "ceMwyl9orA5O"
      }
    },
    {
      "cell_type": "markdown",
      "source": [
        "## Question 54\n",
        "\n",
        "code:"
      ],
      "metadata": {
        "id": "RqwICZ4grA9J"
      }
    },
    {
      "cell_type": "code",
      "source": [],
      "metadata": {
        "id": "zMx-RVMSrA9K"
      },
      "execution_count": null,
      "outputs": []
    },
    {
      "cell_type": "markdown",
      "source": [
        "report:"
      ],
      "metadata": {
        "id": "Eb-lHbderA9K"
      }
    },
    {
      "cell_type": "markdown",
      "source": [
        "---"
      ],
      "metadata": {
        "id": "cDCcg3kmrA9K"
      }
    },
    {
      "cell_type": "markdown",
      "source": [
        "## Question 55\n",
        "\n",
        "code:"
      ],
      "metadata": {
        "id": "0IpAQzynrBBe"
      }
    },
    {
      "cell_type": "code",
      "source": [],
      "metadata": {
        "id": "PK5CjDXArBBf"
      },
      "execution_count": null,
      "outputs": []
    },
    {
      "cell_type": "markdown",
      "source": [
        "report:"
      ],
      "metadata": {
        "id": "t-twcE4drBBf"
      }
    },
    {
      "cell_type": "markdown",
      "source": [
        "---"
      ],
      "metadata": {
        "id": "zZ7WDW1LrBBf"
      }
    },
    {
      "cell_type": "markdown",
      "source": [
        "## Question 56\n",
        "\n",
        "code:"
      ],
      "metadata": {
        "id": "Ut6p2ycgrBFx"
      }
    },
    {
      "cell_type": "code",
      "source": [],
      "metadata": {
        "id": "OUtuo5DKrBFy"
      },
      "execution_count": null,
      "outputs": []
    },
    {
      "cell_type": "markdown",
      "source": [
        "report:"
      ],
      "metadata": {
        "id": "CSlECEzrrBFy"
      }
    },
    {
      "cell_type": "markdown",
      "source": [
        "---"
      ],
      "metadata": {
        "id": "VCb2IPqarBFy"
      }
    },
    {
      "cell_type": "markdown",
      "source": [
        "## Question 57\n",
        "\n",
        "code:"
      ],
      "metadata": {
        "id": "CNZu91i1rBG8"
      }
    },
    {
      "cell_type": "code",
      "source": [],
      "metadata": {
        "id": "seJdH--irBG8"
      },
      "execution_count": null,
      "outputs": []
    },
    {
      "cell_type": "markdown",
      "source": [
        "report:"
      ],
      "metadata": {
        "id": "gv3dZl3lrBG9"
      }
    },
    {
      "cell_type": "markdown",
      "source": [
        "---"
      ],
      "metadata": {
        "id": "rtEeRXPOrBG9"
      }
    },
    {
      "cell_type": "markdown",
      "source": [
        "## Question 58\n",
        "\n",
        "code:"
      ],
      "metadata": {
        "id": "9syfquwJriHo"
      }
    },
    {
      "cell_type": "code",
      "source": [],
      "metadata": {
        "id": "wQmWZcyOriHp"
      },
      "execution_count": null,
      "outputs": []
    },
    {
      "cell_type": "markdown",
      "source": [
        "report:"
      ],
      "metadata": {
        "id": "-t-pj_eAriHp"
      }
    },
    {
      "cell_type": "markdown",
      "source": [
        "---"
      ],
      "metadata": {
        "id": "ayraOCa7riHp"
      }
    },
    {
      "cell_type": "markdown",
      "source": [
        "## Question 59\n",
        "\n",
        "code:"
      ],
      "metadata": {
        "id": "D3JJM22JriRe"
      }
    },
    {
      "cell_type": "code",
      "source": [],
      "metadata": {
        "id": "cBrkj4l4riRf"
      },
      "execution_count": null,
      "outputs": []
    },
    {
      "cell_type": "markdown",
      "source": [
        "report:"
      ],
      "metadata": {
        "id": "1mKUwzGOriRf"
      }
    },
    {
      "cell_type": "markdown",
      "source": [
        "---"
      ],
      "metadata": {
        "id": "GpBtKrRqriRf"
      }
    },
    {
      "cell_type": "markdown",
      "source": [
        "## Question 60\n",
        "\n",
        "code:"
      ],
      "metadata": {
        "id": "Su24NjcyrirV"
      }
    },
    {
      "cell_type": "code",
      "source": [],
      "metadata": {
        "id": "8smKmPxtrirV"
      },
      "execution_count": null,
      "outputs": []
    },
    {
      "cell_type": "markdown",
      "source": [
        "report:"
      ],
      "metadata": {
        "id": "cmBVVdqQrirW"
      }
    },
    {
      "cell_type": "markdown",
      "source": [
        "---"
      ],
      "metadata": {
        "id": "PaM1_XM2rirW"
      }
    },
    {
      "cell_type": "markdown",
      "source": [
        "## Question 61\n",
        "\n",
        "code:"
      ],
      "metadata": {
        "id": "CHm-3Z912w3h"
      }
    },
    {
      "cell_type": "code",
      "source": [],
      "metadata": {
        "id": "7aUEG65_2w3i"
      },
      "execution_count": null,
      "outputs": []
    },
    {
      "cell_type": "markdown",
      "source": [
        "report:"
      ],
      "metadata": {
        "id": "IPnjmlN12w3i"
      }
    },
    {
      "cell_type": "markdown",
      "source": [
        "---"
      ],
      "metadata": {
        "id": "QX1gKLEi2w3j"
      }
    },
    {
      "cell_type": "markdown",
      "source": [
        "## Question 62\n",
        "\n",
        "code:"
      ],
      "metadata": {
        "id": "H3cFjN9B2w_f"
      }
    },
    {
      "cell_type": "code",
      "source": [],
      "metadata": {
        "id": "bsV2izmT2w_f"
      },
      "execution_count": null,
      "outputs": []
    },
    {
      "cell_type": "markdown",
      "source": [
        "report:"
      ],
      "metadata": {
        "id": "b_qBeevG2w_g"
      }
    },
    {
      "cell_type": "markdown",
      "source": [
        "---"
      ],
      "metadata": {
        "id": "vOzvGGZR2w_g"
      }
    },
    {
      "cell_type": "markdown",
      "source": [
        "## Question 63\n",
        "\n",
        "code:"
      ],
      "metadata": {
        "id": "3eN-Q2YG2xN6"
      }
    },
    {
      "cell_type": "code",
      "source": [],
      "metadata": {
        "id": "lUPPDhzg2xN7"
      },
      "execution_count": null,
      "outputs": []
    },
    {
      "cell_type": "markdown",
      "source": [
        "report:"
      ],
      "metadata": {
        "id": "ulTZgcQQ2xN7"
      }
    },
    {
      "cell_type": "markdown",
      "source": [
        "---"
      ],
      "metadata": {
        "id": "O5ga-eMN2xN7"
      }
    }
  ]
}